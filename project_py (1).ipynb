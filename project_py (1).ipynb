{
  "nbformat": 4,
  "nbformat_minor": 0,
  "metadata": {
    "colab": {
      "name": "project.py",
      "provenance": [],
      "collapsed_sections": []
    },
    "kernelspec": {
      "name": "python3",
      "display_name": "Python 3"
    },
    "language_info": {
      "name": "python"
    }
  },
  "cells": [
    {
      "cell_type": "code",
      "metadata": {
        "colab": {
          "base_uri": "https://localhost:8080/"
        },
        "id": "6oqfyblieEzG",
        "outputId": "f4ddfa77-5ba8-46f0-8605-bfd752bc9ace"
      },
      "source": [
        "try:\n",
        "  num = int(input(\"enter a number:\"))\n",
        "\n",
        "  if(num%2)==0:\n",
        "        print(\"given number is even\")\n",
        "  else:\n",
        "        print(\"given number is odd\")\n",
        "\n",
        "except:\n",
        "      print(\"the given number is invalid\")"
      ],
      "execution_count": 9,
      "outputs": [
        {
          "output_type": "stream",
          "text": [
            "enter a number3\n",
            "given number is odd\n"
          ],
          "name": "stdout"
        }
      ]
    }
  ]
}